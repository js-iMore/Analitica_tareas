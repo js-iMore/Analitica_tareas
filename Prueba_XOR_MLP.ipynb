{
  "nbformat": 4,
  "nbformat_minor": 0,
  "metadata": {
    "colab": {
      "name": "Prueba XOR MLP.ipynb",
      "provenance": [],
      "collapsed_sections": [],
      "authorship_tag": "ABX9TyPLxL1kdaWUhhHdgzqEKEeS",
      "include_colab_link": true
    },
    "kernelspec": {
      "name": "python3",
      "display_name": "Python 3"
    }
  },
  "cells": [
    {
      "cell_type": "markdown",
      "metadata": {
        "id": "view-in-github",
        "colab_type": "text"
      },
      "source": [
        "<a href=\"https://colab.research.google.com/github/js-iMore/Analitica_tareas/blob/master/Prueba_XOR_MLP.ipynb\" target=\"_parent\"><img src=\"https://colab.research.google.com/assets/colab-badge.svg\" alt=\"Open In Colab\"/></a>"
      ]
    },
    {
      "cell_type": "markdown",
      "metadata": {
        "id": "Cxq7KImRvZxW",
        "colab_type": "text"
      },
      "source": [
        "#Perceptrón multicapa XOR\n",
        "###X1 y X2 son las entradas, los bloques de salida(neuronas) son T1 (el de la capa superior) y T2, T3 en la segunda capa."
      ]
    },
    {
      "cell_type": "code",
      "metadata": {
        "id": "BWUgO8QfveTu",
        "colab_type": "code",
        "colab": {}
      },
      "source": [
        "#Definición de dos funciones, STEP para el bloque de paso y XOR para realizar la lógica\n",
        "def STEP(a):\n",
        "  if a > 0:\n",
        "    return 1\n",
        "  else:\n",
        "    return 0\n",
        "  \n",
        "\n",
        "def XOR(X1,X2):\n",
        "  T2 = (X1*1) + (X2*1) - 1.5\n",
        "  T2 = STEP(T2)\n",
        "\n",
        "  T3 = (X1*1) + (X2*1) - 0.5\n",
        "  T3= STEP(T3)\n",
        "\n",
        "  T1 = (T2*-1) + (T3*1) -0.5\n",
        "  return STEP(T1)\n",
        "\n"
      ],
      "execution_count": 0,
      "outputs": []
    },
    {
      "cell_type": "markdown",
      "metadata": {
        "id": "5OVnc2f9vsu1",
        "colab_type": "text"
      },
      "source": [
        "##Realizo pruebas para cada combinación de entradas X1 y X2\n",
        "####Teniendo en cuenta que: T1 = step[(T2 * -1) + (T3 * 1) - 0.5] , donde:\n",
        "#### T2 = step[(X1 * 1) + (X2 * 1) - 1.5]\n",
        "#### T3 = step[(X1 * 1) + (X2 * 1) - 0.5]"
      ]
    },
    {
      "cell_type": "code",
      "metadata": {
        "id": "ubo5zSWOvmDl",
        "colab_type": "code",
        "colab": {
          "base_uri": "https://localhost:8080/",
          "height": 34
        },
        "outputId": "dd2f144b-07a5-4a58-f982-1bb23d034d9d"
      },
      "source": [
        "#Con X1 = 0 y X2 = 0\n",
        "#T2 = step[(0 * 1) + (0 * 1) - 1.5] , T2 = 0\n",
        "#T3 = step[(0 * 1) + (0 * 1) - 0.5] , T3 = 0\n",
        "\n",
        "#T1 = step[(0 * -1) + (0 * 1) - 0.5] , T1 = 0\n",
        "\n",
        "XOR(0,0)"
      ],
      "execution_count": 2,
      "outputs": [
        {
          "output_type": "execute_result",
          "data": {
            "text/plain": [
              "0"
            ]
          },
          "metadata": {
            "tags": []
          },
          "execution_count": 2
        }
      ]
    },
    {
      "cell_type": "code",
      "metadata": {
        "id": "wR_p_3r7xSQN",
        "colab_type": "code",
        "colab": {
          "base_uri": "https://localhost:8080/",
          "height": 34
        },
        "outputId": "2f355ecf-4410-4617-bb70-e1845bbb52da"
      },
      "source": [
        "#Con X1 = 0 y X2 = 1\n",
        "#T2 = step[(0 * 1) + (1 * 1) - 1.5] , T2 = 0\n",
        "#T3 = step[(0 * 1) + (1 * 1) - 0.5] , T3 = 1\n",
        "\n",
        "#T1 = step[(0 * -1) + (1 * 1) - 0.5] , T1 = 1\n",
        "\n",
        "XOR(0,1)"
      ],
      "execution_count": 3,
      "outputs": [
        {
          "output_type": "execute_result",
          "data": {
            "text/plain": [
              "1"
            ]
          },
          "metadata": {
            "tags": []
          },
          "execution_count": 3
        }
      ]
    },
    {
      "cell_type": "code",
      "metadata": {
        "id": "ysPg4KuOxvOO",
        "colab_type": "code",
        "colab": {
          "base_uri": "https://localhost:8080/",
          "height": 34
        },
        "outputId": "c1de7363-d68d-4e25-e289-de2a52bc1f0f"
      },
      "source": [
        "#Con X1 = 1 y X2 = 0\n",
        "#T2 = step[(1 * 1) + (0 * 1) - 1.5] , T2 = 0\n",
        "#T3 = step[(1 * 1) + (0 * 1) - 0.5] , T3 = 1\n",
        "\n",
        "#T1 = step[(0 * -1) + (1 * 1) - 0.5] , T1 = 1\n",
        "\n",
        "XOR(1,0)"
      ],
      "execution_count": 4,
      "outputs": [
        {
          "output_type": "execute_result",
          "data": {
            "text/plain": [
              "1"
            ]
          },
          "metadata": {
            "tags": []
          },
          "execution_count": 4
        }
      ]
    },
    {
      "cell_type": "code",
      "metadata": {
        "id": "i61psbfTx4L7",
        "colab_type": "code",
        "colab": {
          "base_uri": "https://localhost:8080/",
          "height": 34
        },
        "outputId": "2e93aee7-6879-4c7c-83dc-87c8aedcbdc1"
      },
      "source": [
        "#Con X1 = 1 y X2 = 1\n",
        "#T2 = step[(1 * 1) + (1 * 1) - 1.5] , T2 = 1\n",
        "#T3 = step[(1 * 1) + (1 * 1) - 0.5] , T3 = 1\n",
        "\n",
        "#T1 = step[(1 * -1) + (1 * 1) - 0.5] , T1 = 0\n",
        "\n",
        "XOR(1,1)"
      ],
      "execution_count": 5,
      "outputs": [
        {
          "output_type": "execute_result",
          "data": {
            "text/plain": [
              "0"
            ]
          },
          "metadata": {
            "tags": []
          },
          "execution_count": 5
        }
      ]
    },
    {
      "cell_type": "code",
      "metadata": {
        "id": "MXhJ9FEKx_0r",
        "colab_type": "code",
        "colab": {}
      },
      "source": [
        ""
      ],
      "execution_count": 0,
      "outputs": []
    }
  ]
}